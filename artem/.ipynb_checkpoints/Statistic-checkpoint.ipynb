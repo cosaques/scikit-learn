{
 "cells": [
  {
   "cell_type": "code",
   "execution_count": 6,
   "metadata": {
    "collapsed": true
   },
   "outputs": [],
   "source": [
    "import random\n",
    "from __future__ import division"
   ]
  },
  {
   "cell_type": "code",
   "execution_count": 11,
   "metadata": {},
   "outputs": [
    {
     "name": "stdout",
     "output_type": "stream",
     "text": [
      "0.488119210632\n",
      "0.322898627947\n"
     ]
    }
   ],
   "source": [
    "def getKid():\n",
    "    return random.choice([\"girl\", \"boy\"])\n",
    "\n",
    "both_girls = 0\n",
    "older_girl = 0\n",
    "either_girl =0\n",
    "\n",
    "random.seed(42)\n",
    "for _ in range(10000):\n",
    "    kid1 = getKid()\n",
    "    kid2 = getKid()\n",
    "    if kid1 == \"girl\":\n",
    "        older_girl+=1\n",
    "        either_girl+=1\n",
    "        if kid2 == \"girl\":\n",
    "            both_girls+=1\n",
    "        continue\n",
    "    \n",
    "    if kid2 == \"girl\":\n",
    "        either_girl+=1\n",
    "\n",
    "print both_girls / older_girl\n",
    "print both_girls / either_girl"
   ]
  },
  {
   "cell_type": "code",
   "execution_count": null,
   "metadata": {
    "collapsed": true
   },
   "outputs": [],
   "source": []
  }
 ],
 "metadata": {
  "kernelspec": {
   "display_name": "Python 2",
   "language": "python",
   "name": "python2"
  },
  "language_info": {
   "codemirror_mode": {
    "name": "ipython",
    "version": 2
   },
   "file_extension": ".py",
   "mimetype": "text/x-python",
   "name": "python",
   "nbconvert_exporter": "python",
   "pygments_lexer": "ipython2",
   "version": "2.7.14"
  }
 },
 "nbformat": 4,
 "nbformat_minor": 2
}
